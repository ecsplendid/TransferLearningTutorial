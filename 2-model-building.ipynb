{
 "cells": [
  {
   "cell_type": "markdown",
   "metadata": {},
   "source": [
    "Copyright (C) Microsoft Corporation."
   ]
  },
  {
   "cell_type": "markdown",
   "metadata": {},
   "source": [
    "# Transfer learning using Keras with CNTK backend and LightGBM"
   ]
  },
  {
   "cell_type": "markdown",
   "metadata": {},
   "source": [
    "**Important**: Make sure the kernel is set to \"Your project name myvm\" which can be done from the *Kernel* menu under *Change kernel*."
   ]
  },
  {
   "cell_type": "markdown",
   "metadata": {},
   "source": [
    "In this notebook, you will be classifying the images you prepared in the first notebook into two categories using transfer learning. One major transfer learning scenario is to use a network that is pretrained on a large image dataset. Here, you will use a [Convolutional Neural Network (CNN)](https://en.wikipedia.org/wiki/Convolutional_neural_network) architecture called [ResNet50](https://arxiv.org/abs/1512.03385), pretrained on [ImageNet](https://en.wikipedia.org/wiki/ImageNet) dataset  which contains 1.2 million images with 1000 categories. You will first remove the last network layer to generate visual features of the images. You will then use these features to train a boosted decision tree to classify the images as pass or fail. You will use [Keras](https://keras.io/) with [Microsoft Cognitive Toolkit CNTK](https://github.com/Microsoft/cntk) backend for the CNN and [LightGBM](https://lightgbm.readthedocs.io/en/latest/) for binary classification. "
   ]
  },
  {
   "cell_type": "code",
   "execution_count": 1,
   "metadata": {},
   "outputs": [],
   "source": [
    "%matplotlib inline\n",
    "import matplotlib\n",
    "import matplotlib.pyplot as plt"
   ]
  },
  {
   "cell_type": "code",
   "execution_count": 2,
   "metadata": {},
   "outputs": [],
   "source": [
    "import os\n",
    "from os import path\n",
    "from glob import iglob\n",
    "from tqdm import tqdm\n",
    "import itertools\n",
    "import numpy as np\n",
    "import pandas as pd\n",
    "from PIL import Image\n",
    "from sklearn.model_selection import StratifiedKFold\n",
    "from sklearn.metrics import confusion_matrix, roc_auc_score, accuracy_score, precision_score, recall_score, f1_score\n",
    "import lightgbm as lgb\n",
    "import h5py"
   ]
  },
  {
   "cell_type": "code",
   "execution_count": 3,
   "metadata": {},
   "outputs": [
    {
     "name": "stderr",
     "output_type": "stream",
     "text": [
      "Using CNTK backend\n"
     ]
    }
   ],
   "source": [
    "os.environ[\"KERAS_BACKEND\"] = \"cntk\"\n",
    "import keras\n",
    "from keras.applications.resnet50 import ResNet50\n",
    "from keras.preprocessing import image\n",
    "from keras.applications.imagenet_utils import preprocess_input"
   ]
  },
  {
   "cell_type": "code",
   "execution_count": 4,
   "metadata": {},
   "outputs": [],
   "source": [
    "from azureml.logging import get_azureml_logger\n",
    "logger = get_azureml_logger()"
   ]
  },
  {
   "cell_type": "markdown",
   "metadata": {},
   "source": [
    "## Prepare training features and labels"
   ]
  },
  {
   "cell_type": "markdown",
   "metadata": {},
   "source": [
    "You will use the AZUREML_NATIVE_SHARE_DIRECTORY to save your intermediate results."
   ]
  },
  {
   "cell_type": "code",
   "execution_count": 5,
   "metadata": {},
   "outputs": [],
   "source": [
    "save_path = os.environ['AZUREML_NATIVE_SHARE_DIRECTORY']"
   ]
  },
  {
   "cell_type": "markdown",
   "metadata": {},
   "source": [
    "First, read in the fail and pass images and check the number of images in each category. "
   ]
  },
  {
   "cell_type": "code",
   "execution_count": 6,
   "metadata": {},
   "outputs": [
    {
     "name": "stdout",
     "output_type": "stream",
     "text": [
      "Number of fail images: 12500\n",
      "Number of pass images: 12500\n"
     ]
    }
   ],
   "source": [
    "files_path = path.join(save_path, 'train')\n",
    "fail_files = sorted(iglob(path.join(files_path, '*fail*.jpg')))\n",
    "pass_files = sorted(iglob(path.join(files_path, '*pass*.jpg')))\n",
    "print('Number of fail images: ' + str(len(fail_files)))\n",
    "print('Number of pass images: ' + str(len(pass_files)))"
   ]
  },
  {
   "cell_type": "markdown",
   "metadata": {},
   "source": [
    "### Generate labels"
   ]
  },
  {
   "cell_type": "markdown",
   "metadata": {},
   "source": [
    "Next, prepare the labels of the images. You will be labeling fail images with 0 and pass images with 1."
   ]
  },
  {
   "cell_type": "code",
   "execution_count": 7,
   "metadata": {},
   "outputs": [
    {
     "data": {
      "text/plain": [
       "array([ 0.,  0.,  0., ...,  1.,  1.,  1.])"
      ]
     },
     "execution_count": 7,
     "metadata": {},
     "output_type": "execute_result"
    }
   ],
   "source": [
    "image_paths = fail_files + pass_files\n",
    "total_files = len(fail_files) + len(pass_files)\n",
    "labels = np.zeros(total_files)\n",
    "labels[len(fail_files):] = 1\n",
    "labels"
   ]
  },
  {
   "cell_type": "markdown",
   "metadata": {},
   "source": [
    "### Compute features"
   ]
  },
  {
   "cell_type": "markdown",
   "metadata": {},
   "source": [
    "In this part, you will use ResNet50 model with weights pretrained on ImageNet to obtain the features of the images. Download the model and save it into a keras model object. The include_top=False parameter is required to indicate that you will not include the fully-connected layer at the top of the network since you will only use the network to featurize images. The default input image size for this model is (224, 244) with 3 color channnels and requires input_shape=(224, 224, 3) parameter to be set as 'channels_last'."
   ]
  },
  {
   "cell_type": "code",
   "execution_count": 8,
   "metadata": {},
   "outputs": [
    {
     "name": "stdout",
     "output_type": "stream",
     "text": [
      "Downloading data from https://github.com/fchollet/deep-learning-models/releases/download/v0.2/resnet50_weights_tf_dim_ordering_tf_kernels_notop.h5\n",
      "92905472/94653016 [============================>.] - ETA: 0s"
     ]
    }
   ],
   "source": [
    "model = ResNet50(include_top=False, input_shape=(224, 224, 3))"
   ]
  },
  {
   "cell_type": "markdown",
   "metadata": {},
   "source": [
    "Next, you will use two helper functions, one for yielding batch size image paths from a list of file paths and the other one for  featurizing these batches of images."
   ]
  },
  {
   "cell_type": "code",
   "execution_count": 9,
   "metadata": {},
   "outputs": [],
   "source": [
    "def file_batch(file_list, batch_size):\n",
    "    for i in range(0, len(file_list), batch_size):\n",
    "        yield file_list[i:i + batch_size]"
   ]
  },
  {
   "cell_type": "code",
   "execution_count": 10,
   "metadata": {},
   "outputs": [],
   "source": [
    "def featurize_images(file_list, model, batch_size=32):\n",
    "    features = []\n",
    "    \n",
    "    for fb in tqdm(file_batch(file_list, batch_size)):\n",
    "        load_img = []\n",
    "        for file_path in fb:\n",
    "            img = image.load_img(file_path, target_size=(224, 224))\n",
    "            x = image.img_to_array(img)\n",
    "            x = np.expand_dims(x, axis=0)\n",
    "            load_img.append(preprocess_input(x))\n",
    "        features.extend(model.predict_on_batch(np.concatenate(load_img)).squeeze())\n",
    "    return np.array(features)"
   ]
  },
  {
   "cell_type": "markdown",
   "metadata": {},
   "source": [
    "The featurize_images function  processes the image files in small chunks (default is set to batch_size=32) by first loading the images in the batch into a target size of (224,224), then converting them into four dimensional tensors which keras model expects as input. After, that model's batch prediction method is called to calculate the features of each image."
   ]
  },
  {
   "cell_type": "markdown",
   "metadata": {},
   "source": [
    "Next, you will call the function to compute the features and save them into the share folder. The execution of the following cell may take up to 10-15 minutes so feel free to read through the links provided in the beginning of the notebook in order to learn more about CNNs, ResNet50, Keras, CNTK and LightGBM."
   ]
  },
  {
   "cell_type": "code",
   "execution_count": 11,
   "metadata": {},
   "outputs": [
    {
     "name": "stderr",
     "output_type": "stream",
     "text": [
      "\r",
      "0it [00:00, ?it/s]"
     ]
    },
    {
     "name": "stdout",
     "output_type": "stream",
     "text": [
      "Computing features\n"
     ]
    },
    {
     "name": "stderr",
     "output_type": "stream",
     "text": [
      "782it [11:47,  1.10it/s]\n"
     ]
    },
    {
     "name": "stdout",
     "output_type": "stream",
     "text": [
      "CPU times: user 10min 8s, sys: 58.3 s, total: 11min 7s\n",
      "Wall time: 11min 48s\n"
     ]
    }
   ],
   "source": [
    "%%time\n",
    "features_filename = path.join(save_path, 'features_resnet50.npy')\n",
    "if path.isfile(features_filename):\n",
    "    print(\"Features found!\")\n",
    "    features = np.load(features_filename)\n",
    "else:\n",
    "    print(\"Computing features\")\n",
    "    features = featurize_images(image_paths, model) \n",
    "    np.save(features_filename, features)"
   ]
  },
  {
   "cell_type": "markdown",
   "metadata": {},
   "source": [
    "Check the shape of the computed features."
   ]
  },
  {
   "cell_type": "code",
   "execution_count": 12,
   "metadata": {},
   "outputs": [
    {
     "data": {
      "text/plain": [
       "(25000, 2048)"
      ]
     },
     "execution_count": 12,
     "metadata": {},
     "output_type": "execute_result"
    }
   ],
   "source": [
    "features.shape"
   ]
  },
  {
   "cell_type": "markdown",
   "metadata": {},
   "source": [
    "## Training and Cross Validation"
   ]
  },
  {
   "cell_type": "markdown",
   "metadata": {},
   "source": [
    "In this section, you will use the features calcuated in the previous section to train a LightGBM classifier. You will be performing cross validation to understand the performance of the model. You will use [scikit-learn's stratified K-fold cross validation](http://scikit-learn.org/0.16/modules/generated/sklearn.cross_validation.StratifiedKFold.html) where the folds are made by preserving the percentage of samples from each class. This is an important step especially if you are using your own data and number of images in one of the categories is substentially less than the other category. You will be using 5 fold cross validation. You can pick other values by changing n_splits in the next cell to the desired number of folds."
   ]
  },
  {
   "cell_type": "code",
   "execution_count": 13,
   "metadata": {},
   "outputs": [],
   "source": [
    "n_splits = 5\n",
    "skf = StratifiedKFold(n_splits=n_splits, random_state=2048, shuffle=True)\n",
    "cv_results = pd.DataFrame(columns=['Accuracy', 'Precision', 'Recall', 'F1', 'AUC', 'Confusion Matrix'])"
   ]
  },
  {
   "cell_type": "markdown",
   "metadata": {},
   "source": [
    "You will use a helper function called classification_metircs to calculate the evaluation metrics for each fold. "
   ]
  },
  {
   "cell_type": "code",
   "execution_count": 14,
   "metadata": {},
   "outputs": [],
   "source": [
    "def classification_metrics(y_true, y_pred_proba, threshold=0.5):\n",
    "    y_pred = np.where(y_pred_proba > threshold, 1, 0)\n",
    "    cm_dict = {}\n",
    "    cm_dict['Accuracy'] = accuracy_score(y_true, y_pred)\n",
    "    cm_dict['Precision'] =  precision_score(y_true, y_pred)\n",
    "    cm_dict['Recall'] =  recall_score(y_true, y_pred)\n",
    "    cm_dict['F1'] =  f1_score(y_true, y_pred) \n",
    "    cm_dict['AUC'] = roc_auc_score(y_true, y_pred_proba)\n",
    "    cm_dict['Confusion Matrix'] = confusion_matrix(y_true, y_pred).tolist()\n",
    "    return cm_dict"
   ]
  },
  {
   "cell_type": "markdown",
   "metadata": {},
   "source": [
    "Next, provide parameters of the LightGBM model. You can experiment with different parameters."
   ]
  },
  {
   "cell_type": "code",
   "execution_count": 15,
   "metadata": {},
   "outputs": [],
   "source": [
    "params = {'num_leaves': 256,\n",
    "           'learning_rate': 0.1,\n",
    "           'min_split_gain': 0.1,\n",
    "           'min_child_weight': 30,\n",
    "           'reg_lambda': 1,\n",
    "           'subsample': 1,\n",
    "           'objective':'binary',\n",
    "           'task': 'train',\n",
    "           'verbose': 4\n",
    "           }"
   ]
  },
  {
   "cell_type": "markdown",
   "metadata": {},
   "source": [
    "Below, you will train your classifer for each fold and print the metrics."
   ]
  },
  {
   "cell_type": "code",
   "execution_count": 16,
   "metadata": {},
   "outputs": [
    {
     "name": "stderr",
     "output_type": "stream",
     "text": [
      "1it [00:17, 17.65s/it]"
     ]
    },
    {
     "name": "stdout",
     "output_type": "stream",
     "text": [
      "{'Precision': 0.98685782556750301, 'Recall': 0.99119999999999997, 'F1': 0.9890241468768709, 'AUC': 0.99931535999999999, 'Accuracy': 0.98899999999999999, 'Confusion Matrix': [[2467, 33], [22, 2478]]}\n"
     ]
    },
    {
     "name": "stderr",
     "output_type": "stream",
     "text": [
      "\r",
      "2it [00:35, 17.87s/it]"
     ]
    },
    {
     "name": "stdout",
     "output_type": "stream",
     "text": [
      "{'Precision': 0.98374306106264864, 'Recall': 0.99239999999999995, 'F1': 0.98805256869772995, 'AUC': 0.99951455999999994, 'Accuracy': 0.98799999999999999, 'Confusion Matrix': [[2459, 41], [19, 2481]]}\n"
     ]
    },
    {
     "name": "stderr",
     "output_type": "stream",
     "text": [
      "\r",
      "3it [00:52, 17.58s/it]"
     ]
    },
    {
     "name": "stdout",
     "output_type": "stream",
     "text": [
      "{'Precision': 0.98445595854922274, 'Recall': 0.98799999999999999, 'F1': 0.98622479536833696, 'AUC': 0.99931712000000006, 'Accuracy': 0.98619999999999997, 'Confusion Matrix': [[2461, 39], [30, 2470]]}\n"
     ]
    },
    {
     "name": "stderr",
     "output_type": "stream",
     "text": [
      "\r",
      "4it [01:10, 17.69s/it]"
     ]
    },
    {
     "name": "stdout",
     "output_type": "stream",
     "text": [
      "{'Precision': 0.98447452229299359, 'Recall': 0.98919999999999997, 'F1': 0.98683160415003979, 'AUC': 0.9994075200000001, 'Accuracy': 0.98680000000000001, 'Confusion Matrix': [[2461, 39], [27, 2473]]}\n"
     ]
    },
    {
     "name": "stderr",
     "output_type": "stream",
     "text": [
      "\r",
      "5it [01:28, 17.76s/it]"
     ]
    },
    {
     "name": "stdout",
     "output_type": "stream",
     "text": [
      "{'Precision': 0.98758510212254702, 'Recall': 0.98640000000000005, 'F1': 0.98699219531719029, 'AUC': 0.99890223999999994, 'Accuracy': 0.98699999999999999, 'Confusion Matrix': [[2469, 31], [34, 2466]]}\n",
      "CPU times: user 12min 19s, sys: 9.28 s, total: 12min 29s\n",
      "Wall time: 1min 28s\n"
     ]
    },
    {
     "name": "stderr",
     "output_type": "stream",
     "text": [
      "\n"
     ]
    }
   ],
   "source": [
    "%%time \n",
    "for train_index, test_index in tqdm(skf.split(features, labels)):\n",
    "    X_train, X_test = features[train_index], features[test_index]\n",
    "    y_train, y_test = labels[train_index], labels[test_index]\n",
    "    lgb_train = lgb.Dataset(X_train, y_train, free_raw_data=False)\n",
    "    clf = lgb.train(params, lgb_train, num_boost_round=500)\n",
    "    y_pred_proba = clf.predict(X_test)\n",
    "    cm_dict = classification_metrics(y_test, y_pred_proba)\n",
    "    print(cm_dict)\n",
    "    cv_results = cv_results.append(classification_metrics(y_test, y_pred_proba),ignore_index=True)"
   ]
  },
  {
   "cell_type": "code",
   "execution_count": 17,
   "metadata": {},
   "outputs": [
    {
     "data": {
      "text/plain": [
       "Accuracy     0.987400\n",
       "Precision    0.985423\n",
       "Recall       0.989440\n",
       "F1           0.987425\n",
       "AUC          0.999291\n",
       "dtype: float64"
      ]
     },
     "execution_count": 17,
     "metadata": {},
     "output_type": "execute_result"
    }
   ],
   "source": [
    "cv_results.mean()"
   ]
  },
  {
   "cell_type": "markdown",
   "metadata": {},
   "source": [
    "Below, you will be using Azure Machine Learning Workbench's data collector to log the metrics of your cross validation. The metrics are stored by the history service and tied to the notebook that produced them. You can later view these metrics in the Run History tab of Azure ML Workbench. We will turn the cell level logging on before logging and turn it off after so that only the history of cell runs where metrics are collected are captured."
   ]
  },
  {
   "cell_type": "code",
   "execution_count": 18,
   "metadata": {},
   "outputs": [
    {
     "name": "stdout",
     "output_type": "stream",
     "text": [
      "History logging enabled\n",
      "History logging is enabled\n"
     ]
    }
   ],
   "source": [
    "%azureml history on\n",
    "%azureml history show"
   ]
  },
  {
   "cell_type": "code",
   "execution_count": 19,
   "metadata": {},
   "outputs": [
    {
     "data": {
      "text/plain": [
       "<azureml.logging.script_run_request.ScriptRunRequest at 0x7f48021fae48>"
      ]
     },
     "execution_count": 19,
     "metadata": {},
     "output_type": "execute_result"
    }
   ],
   "source": [
    "logger.log('Accuracy',cv_results.mean()['Accuracy'])\n",
    "logger.log('Precision',cv_results.mean()['Precision'])\n",
    "logger.log('Recall',cv_results.mean()['Recall'])\n",
    "logger.log('F1',cv_results.mean()['F1'])\n",
    "logger.log('AUC',cv_results.mean()['AUC'])"
   ]
  },
  {
   "cell_type": "code",
   "execution_count": 20,
   "metadata": {},
   "outputs": [
    {
     "name": "stdout",
     "output_type": "stream",
     "text": [
      "History logging disabled\n"
     ]
    }
   ],
   "source": [
    "%azureml history off"
   ]
  },
  {
   "cell_type": "markdown",
   "metadata": {},
   "source": [
    "Now, you will train our model on the whole dataset one last time to obtain the final trained model for operationalization. You will also plot the confusion matrix for this model."
   ]
  },
  {
   "cell_type": "code",
   "execution_count": 21,
   "metadata": {},
   "outputs": [],
   "source": [
    "lgb_train = lgb.Dataset(features, labels, free_raw_data=False)\n",
    "clf = lgb.train(params, lgb_train, num_boost_round=500)\n",
    "y_pred_proba = clf.predict(features)"
   ]
  },
  {
   "cell_type": "markdown",
   "metadata": {},
   "source": [
    "You will use the following helper function to plot the confusion matrix."
   ]
  },
  {
   "cell_type": "code",
   "execution_count": 22,
   "metadata": {},
   "outputs": [],
   "source": [
    "def plot_confusion_matrix(cm, classes, normalize=False, title='Confusion matrix', cmap=plt.cm.Blues):\n",
    "    \"\"\"Plots a confusion matrix.\n",
    "    Source: http://scikit-learn.org/stable/auto_examples/model_selection/plot_confusion_matrix.html\n",
    "    \"\"\"\n",
    "    cm_max = cm.max()\n",
    "    cm_min = cm.min()\n",
    "    if cm_min > 0: cm_min = 0\n",
    "    if normalize:\n",
    "        cm = cm.astype('float') / cm.sum(axis=1)[:, np.newaxis]\n",
    "        cm_max = 1\n",
    "    plt.imshow(cm, interpolation='nearest', cmap=cmap)\n",
    "    plt.title(title)\n",
    "    plt.colorbar()\n",
    "    tick_marks = np.arange(len(classes))\n",
    "    plt.xticks(tick_marks, classes, rotation=45)\n",
    "    plt.yticks(tick_marks, classes)\n",
    "    thresh = cm_max / 2.\n",
    "    plt.clim(cm_min, cm_max)\n",
    "\n",
    "    for i, j in itertools.product(range(cm.shape[0]), range(cm.shape[1])):\n",
    "        plt.text(j, i,\n",
    "                 round(cm[i, j], 3),  # round to 3 decimals if they are float\n",
    "                 horizontalalignment=\"center\",\n",
    "                 color=\"white\" if cm[i, j] > thresh else \"black\")\n",
    "    plt.ylabel('True label')\n",
    "    plt.xlabel('Predicted label')\n",
    "    plt.show()"
   ]
  },
  {
   "cell_type": "code",
   "execution_count": 23,
   "metadata": {},
   "outputs": [
    {
     "data": {
      "image/png": "[encoded data removed]",
      "text/plain": [
       "<matplotlib.figure.Figure at 0x7f48045093c8>"
      ]
     },
     "metadata": {},
     "output_type": "display_data"
    },
    {
     "name": "stdout",
     "output_type": "stream",
     "text": [
      "Confusion Matrix:\n",
      "[[12497     3]\n",
      " [    0 12500]]\n"
     ]
    }
   ],
   "source": [
    "cm = np.asarray(classification_metrics(labels, y_pred_proba)['Confusion Matrix'])\n",
    "plot_confusion_matrix(cm, ['fail','pass'], normalize=True)\n",
    "print('Confusion Matrix:')\n",
    "print(cm)"
   ]
  },
  {
   "cell_type": "markdown",
   "metadata": {},
   "source": [
    "## Save the model"
   ]
  },
  {
   "cell_type": "markdown",
   "metadata": {},
   "source": [
    "Save the model file to the shared folder. You will load this file in the next notebook for operationalization."
   ]
  },
  {
   "cell_type": "code",
   "execution_count": 24,
   "metadata": {},
   "outputs": [],
   "source": [
    "model_path = path.join(save_path,'lightgbm_classifier.model')\n",
    "clf.save_model(model_path)"
   ]
  },
  {
   "cell_type": "markdown",
   "metadata": {},
   "source": [
    "As one option to retrive your model for operationalization, you can  write the file to the special outputs folder which can be accessed from Azure ML workbench under the run history tab for this notebook. "
   ]
  },
  {
   "cell_type": "code",
   "execution_count": 25,
   "metadata": {},
   "outputs": [],
   "source": [
    "outputs = 'outputs'"
   ]
  },
  {
   "cell_type": "code",
   "execution_count": 26,
   "metadata": {},
   "outputs": [],
   "source": [
    "model_path = path.join('outputs','lightgbm_classifier.model')\n",
    "clf.save_model(model_path)"
   ]
  },
  {
   "cell_type": "code",
   "execution_count": 27,
   "metadata": {},
   "outputs": [
    {
     "name": "stdout",
     "output_type": "stream",
     "text": [
      "History logging enabled\n"
     ]
    }
   ],
   "source": [
    "%azureml history on"
   ]
  },
  {
   "cell_type": "code",
   "execution_count": 28,
   "metadata": {},
   "outputs": [],
   "source": [
    "filepath = path.join('outputs','lightgbm_classifier.model')\n",
    "with open(filepath, \"rb\") as file:\n",
    "    get_azureml_logger().upload(path.normpath(filepath), file.read())"
   ]
  },
  {
   "cell_type": "markdown",
   "metadata": {},
   "source": [
    "Now, as an option, you can locate the model file in Azure ML Workbench by clicking the last completed run under the notebook run history and download it."
   ]
  },
  {
   "cell_type": "code",
   "execution_count": 29,
   "metadata": {},
   "outputs": [
    {
     "name": "stdout",
     "output_type": "stream",
     "text": [
      "History logging disabled\n"
     ]
    }
   ],
   "source": [
    "%azureml history off"
   ]
  },
  {
   "cell_type": "markdown",
   "metadata": {},
   "source": [
    "As another option, you will create a folder under AZUREML_NATIVE_SHARE_DIRECTORY where you will save the files needed for operationalization. In the next notebook, you will compress and upload this folder to blob storage for later retrieval and usage for web service deployment."
   ]
  },
  {
   "cell_type": "code",
   "execution_count": 43,
   "metadata": {},
   "outputs": [],
   "source": [
    "o16n_path = path.join(save_path,'o16n')  \n",
    "if not os.path.exists(o16n_path):\n",
    "    os.makedirs(o16n_path)"
   ]
  },
  {
   "cell_type": "code",
   "execution_count": 45,
   "metadata": {},
   "outputs": [],
   "source": [
    "model_path = path.join(o16n_path,'lightgbm_classifier.model')\n",
    "clf.save_model(model_path)"
   ]
  },
  {
   "cell_type": "markdown",
   "metadata": {},
   "source": [
    "Next, go to the 3rd notebook to prepare other files needed for operationalization of your model."
   ]
  }
 ],
 "metadata": {
  "kernelspec": {
   "display_name": "imgtutvso local",
   "language": "python",
   "name": "imgtutvso_local"
  },
  "language_info": {
   "codemirror_mode": {
    "name": "ipython",
    "version": 3
   },
   "file_extension": ".py",
   "mimetype": "text/x-python",
   "name": "python",
   "nbconvert_exporter": "python",
   "pygments_lexer": "ipython3",
   "version": "3.5.2"
  }
 },
 "nbformat": 4,
 "nbformat_minor": 2
}
