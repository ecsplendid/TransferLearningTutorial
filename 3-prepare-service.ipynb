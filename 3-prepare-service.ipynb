{
 "cells": [
  {
   "cell_type": "markdown",
   "metadata": {},
   "source": [
    "Copyright (C) Microsoft Corporation."
   ]
  },
  {
   "cell_type": "markdown",
   "metadata": {
    "collapsed": true
   },
   "source": [
    "# Author a real time web service"
   ]
  },
  {
   "cell_type": "markdown",
   "metadata": {
    "collapsed": true
   },
   "source": [
    "**Important**: Make sure the kernel is set to \"Your project name myvm\" which can be done from the *Kernel* menu under *Change kernel*."
   ]
  },
  {
   "cell_type": "markdown",
   "metadata": {},
   "source": [
    "In this notebook, you will be using the LightGBM classifer you trained in the second notebook to prepare the necessary artifacts to opertionalize your model."
   ]
  },
  {
   "cell_type": "code",
   "execution_count": 1,
   "metadata": {},
   "outputs": [],
   "source": [
    "import os\n",
    "from os import path\n",
    "from glob import iglob\n",
    "from PIL import Image, ImageOps\n",
    "import numpy as np\n",
    "import base64\n",
    "import json\n",
    "from io import BytesIO\n",
    "import sys\n",
    "import lightgbm as lgb\n",
    "from azure.storage.blob import BlockBlobService\n",
    "import shutil"
   ]
  },
  {
   "cell_type": "code",
   "execution_count": 2,
   "metadata": {},
   "outputs": [
    {
     "name": "stderr",
     "output_type": "stream",
     "text": [
      "Using CNTK backend\n"
     ]
    }
   ],
   "source": [
    "os.environ[\"KERAS_BACKEND\"] = \"cntk\"\n",
    "import keras\n",
    "from keras.applications.resnet50 import ResNet50\n",
    "from keras.preprocessing import image\n",
    "from keras.applications.imagenet_utils import preprocess_input"
   ]
  },
  {
   "cell_type": "markdown",
   "metadata": {},
   "source": [
    "You will use the AZUREML_NATIVE_SHARE_DIRECTORY to save your operationalization artifacts."
   ]
  },
  {
   "cell_type": "code",
   "execution_count": 3,
   "metadata": {},
   "outputs": [],
   "source": [
    "save_path = os.environ['AZUREML_NATIVE_SHARE_DIRECTORY']"
   ]
  },
  {
   "cell_type": "markdown",
   "metadata": {},
   "source": [
    "You will use the first fail image as a test example to prepare your service."
   ]
  },
  {
   "cell_type": "code",
   "execution_count": 4,
   "metadata": {},
   "outputs": [],
   "source": [
    "files_path = path.join(save_path, 'train')\n",
    "fail_files = sorted(iglob(path.join(files_path, '*fail*.jpg')))"
   ]
  },
  {
   "cell_type": "markdown",
   "metadata": {},
   "source": [
    "Pick first fail image."
   ]
  },
  {
   "cell_type": "code",
   "execution_count": 5,
   "metadata": {},
   "outputs": [
    {
     "name": "stdout",
     "output_type": "stream",
     "text": [
      "(500, 374)\n"
     ]
    }
   ],
   "source": [
    "fail_img_path = fail_files[0]\n",
    "fail_pil_image = Image.open(fail_img_path)\n",
    "print(fail_pil_image.size)\n",
    "#fail_pil_image"
   ]
  },
  {
   "cell_type": "markdown",
   "metadata": {},
   "source": [
    "In order to transfer the image to call the web service, you will encode the image into string representation and then serialize it into json format."
   ]
  },
  {
   "cell_type": "code",
   "execution_count": 6,
   "metadata": {},
   "outputs": [
    {
     "data": {
      "text/plain": [
       "'\"b\\'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\\'\"'"
      ]
     },
     "execution_count": 6,
     "metadata": {},
     "output_type": "execute_result"
    }
   ],
   "source": [
    "with open(fail_img_path, 'rb') as file:\n",
    "  encoded = base64.b64encode(file.read())\n",
    "body = json.dumps(\"{}\".format(encoded))\n",
    "body"
   ]
  },
  {
   "cell_type": "markdown",
   "metadata": {},
   "source": [
    "The above string representation will be sent to the web service.It will then be loaded, decoded and converted back into an image by the web service before featurization and prediction steps. Below, you will load this string and perform necessary steps to convert it back to its image representation."
   ]
  },
  {
   "cell_type": "code",
   "execution_count": 7,
   "metadata": {},
   "outputs": [],
   "source": [
    "base64ImgString = json.loads(body)\n",
    "\n",
    "if base64ImgString.startswith('b\\''):\n",
    "    base64ImgString = base64ImgString[2:-1]\n",
    "base64Img = base64ImgString.encode('utf-8')\n",
    "\n",
    "decoded_img = base64.b64decode(base64Img)\n",
    "img_buffer = BytesIO(decoded_img)\n",
    "imageData = Image.open(img_buffer).convert(\"RGB\")"
   ]
  },
  {
   "cell_type": "markdown",
   "metadata": {},
   "source": [
    "Now, you will load ResNet50 model and LightGBM classifer to make a prediction on the first fail image."
   ]
  },
  {
   "cell_type": "code",
   "execution_count": 8,
   "metadata": {},
   "outputs": [
    {
     "name": "stdout",
     "output_type": "stream",
     "text": [
      "Downloading data from https://github.com/fchollet/deep-learning-models/releases/download/v0.2/resnet50_weights_tf_dim_ordering_tf_kernels_notop.h5\n",
      "92790784/94653016 [============================>.] - ETA: 0s"
     ]
    },
    {
     "data": {
      "text/plain": [
       "array([ 0.00011647])"
      ]
     },
     "execution_count": 8,
     "metadata": {},
     "output_type": "execute_result"
    }
   ],
   "source": [
    "clf = lgb.Booster(model_file=path.join(save_path,'lightgbm_classifier.model'))\n",
    "model = ResNet50(include_top=False, input_shape=(224,224,3))\n",
    "img = ImageOps.fit(imageData, (224, 224), Image.ANTIALIAS)\n",
    "x = image.img_to_array(img)\n",
    "x = np.expand_dims(x, axis=0)\n",
    "x = preprocess_input(x)\n",
    "pred = model.predict(x).squeeze()  \n",
    "feat = pred.reshape(1, pred.shape[0])\n",
    "resp = clf.predict(feat)\n",
    "resp"
   ]
  },
  {
   "cell_type": "markdown",
   "metadata": {},
   "source": [
    "## Create a scoring script"
   ]
  },
  {
   "cell_type": "markdown",
   "metadata": {},
   "source": [
    "In order to create a web service, you will create a scoring script that will load the models, perform the prediction, and return the result. Azure ML Workbench uses init() and run() functions inside this scoring script for that purpose. The init() function initializes the web service and loads the saved model. The run() function uses the model and the input data to return a prediction which is executed on a scoring call."
   ]
  },
  {
   "cell_type": "markdown",
   "metadata": {},
   "source": [
    "You will first define init() and run() functions and test them. Notice that the init() function loads the LightGBM model and the run() function just wraps the above steps to convert the image string received into image format, load ResNet50 model to create features and use the lightGBM model to make a prediction."
   ]
  },
  {
   "cell_type": "code",
   "execution_count": 9,
   "metadata": {},
   "outputs": [],
   "source": [
    "def init():\n",
    "    global clf\n",
    "    try:\n",
    "        print(\"Executing init() method...\")\n",
    "        print(\"Python version: \" + str(sys.version) + \", keras version: \" + keras.__version__)\n",
    "        # Load the model \n",
    "        clf = lgb.Booster(model_file='/azureml-share/lightgbm_classifier.model')\n",
    "    except Exception as e:\n",
    "        print(\"Exception in init:\")\n",
    "        print(str(e))\n",
    "   \n",
    "def run(inputString):\n",
    "    try:\n",
    "        responses = []\n",
    "        base64ImgString = json.loads(inputString)\n",
    "        \n",
    "        if base64ImgString.startswith('b\\''):\n",
    "            base64ImgString = base64ImgString[2:-1]\n",
    "        base64Img = base64ImgString.encode('utf-8')\n",
    "            \n",
    "        # Preprocess the input data\n",
    "        decoded_img = base64.b64decode(base64Img)\n",
    "        img_buffer = BytesIO(decoded_img)\n",
    "        imageData = Image.open(img_buffer).convert(\"RGB\")\n",
    "           \n",
    "        # Evaluate the model using the input data\n",
    "        model = ResNet50(include_top=False, input_shape=(224,224,3))\n",
    "        img = ImageOps.fit(imageData, (224, 224), Image.ANTIALIAS)\n",
    "        x = image.img_to_array(img)\n",
    "        x = np.expand_dims(x, axis=0)\n",
    "        x = preprocess_input(x)\n",
    "        pred = model.predict(x).squeeze()  \n",
    "        feat = pred.reshape(1, pred.shape[0])\n",
    "        resp = clf.predict(feat)\n",
    "        responses.append(list(resp))\n",
    "    except Exception as e:\n",
    "        print(\"Exception in run:\")\n",
    "        print(str(e))                \n",
    "    return responses"
   ]
  },
  {
   "cell_type": "markdown",
   "metadata": {},
   "source": [
    "You will now test your functions. You will see that the same prediction value is produced by the run() function when the same image string is passed."
   ]
  },
  {
   "cell_type": "code",
   "execution_count": 10,
   "metadata": {},
   "outputs": [
    {
     "name": "stdout",
     "output_type": "stream",
     "text": [
      "Executing init() method...\n",
      "Python version: 3.5.2 | packaged by conda-forge | (default, Jan 19 2017, 15:28:33) \n",
      "[GCC 4.8.2 20140120 (Red Hat 4.8.2-15)], keras version: 2.0.8\n"
     ]
    },
    {
     "data": {
      "text/plain": [
       "[[0.00011646905475415675]]"
      ]
     },
     "execution_count": 10,
     "metadata": {},
     "output_type": "execute_result"
    }
   ],
   "source": [
    "init()\n",
    "run(body)"
   ]
  },
  {
   "cell_type": "markdown",
   "metadata": {},
   "source": [
    "Write the scoring script to the folder you created in the 2nd notebook to be used by operationalization later. Observe that the scoring script includes the init() and run() functions and also imports the necessary packages to run those. Also, notice that the path to the model file doesn't have the folder name in the scoring script as the web service will place all the operationalization files in one location."
   ]
  },
  {
   "cell_type": "code",
   "execution_count": 32,
   "metadata": {},
   "outputs": [],
   "source": [
    "o16n_path = path.join(save_path,'o16n')\n",
    "write_path = path.join(o16n_path, 'imgscore.py')"
   ]
  },
  {
   "cell_type": "code",
   "execution_count": 33,
   "metadata": {},
   "outputs": [
    {
     "name": "stdout",
     "output_type": "stream",
     "text": [
      "Overwriting /azureml-share/o16n/imgscore.py\n"
     ]
    }
   ],
   "source": [
    "%%writefile $write_path\n",
    "\n",
    "import os\n",
    "os.environ[\"KERAS_BACKEND\"] = \"cntk\"\n",
    "import keras\n",
    "from keras.applications.imagenet_utils import preprocess_input\n",
    "from keras.preprocessing import image\n",
    "from keras.applications.resnet50 import ResNet50\n",
    "\n",
    "import sys, base64, json\n",
    "from PIL import Image, ImageOps\n",
    "import lightgbm as lgb\n",
    "from io import BytesIO\n",
    "import numpy as np\n",
    "\n",
    "\n",
    "try:\n",
    "    import lightgbm as lgb\n",
    "except OSError as e:\n",
    "    print(str(e))\n",
    "\n",
    "\n",
    "def init():\n",
    "    global clf\n",
    "    try:\n",
    "        print(\"Executing init() method...\")\n",
    "        print(\"Python version: \" + str(sys.version) + \", keras version: \" + keras.__version__)\n",
    "        # Load the model \n",
    "        clf = lgb.Booster(model_file='lightgbm_classifier.model')\n",
    "    except Exception as e:\n",
    "        print(\"Exception in init:\")\n",
    "        print(str(e))\n",
    "   \n",
    "\n",
    "def run(inputString):\n",
    "    try:\n",
    "        responses = []\n",
    "        base64ImgString = json.loads(inputString)\n",
    "        \n",
    "        if base64ImgString.startswith('b\\''):\n",
    "            base64ImgString = base64ImgString[2:-1]\n",
    "        base64Img = base64ImgString.encode('utf-8')\n",
    "            \n",
    "        # Preprocess the input data\n",
    "        decoded_img = base64.b64decode(base64Img)\n",
    "        img_buffer = BytesIO(decoded_img)\n",
    "        imageData = Image.open(img_buffer).convert(\"RGB\")\n",
    "           \n",
    "        # Evaluate the model using the input data\n",
    "        model = ResNet50(include_top=False, input_shape=(224,224,3))\n",
    "        img = ImageOps.fit(imageData, (224, 224), Image.ANTIALIAS)\n",
    "        x = image.img_to_array(img)\n",
    "        x = np.expand_dims(x, axis=0)\n",
    "        x = preprocess_input(x)\n",
    "        pred = model.predict(x).squeeze()  \n",
    "        feat = pred.reshape(1, pred.shape[0])\n",
    "        resp = clf.predict(feat)\n",
    "        responses.append(list(resp))\n",
    "    except Exception as e:\n",
    "        print(\"Exception in run:\")\n",
    "        print(str(e))                \n",
    "    return responses\n",
    "\n",
    "if __name__ == \"__main__\":\n",
    "    init()\n",
    "    # input data\n",
    "    img_path = 'fail.0.jpg'\n",
    "    encoded = None\n",
    "    with open(img_path, 'rb') as file:\n",
    "      encoded = base64.b64encode(file.read())\n",
    "    body = json.dumps(\"{}\".format(encoded))\n",
    "    resp = run(body)\n",
    "    print(resp)"
   ]
  },
  {
   "cell_type": "markdown",
   "metadata": {},
   "source": [
    "You will also use the first failure image as sample data to test your web services. Next, you will compy the image into the operationalization folder."
   ]
  },
  {
   "cell_type": "code",
   "execution_count": 34,
   "metadata": {},
   "outputs": [
    {
     "data": {
      "text/plain": [
       "'/azureml-share/o16n/fail.0.jpg'"
      ]
     },
     "execution_count": 34,
     "metadata": {},
     "output_type": "execute_result"
    }
   ],
   "source": [
    "shutil.copyfile(fail_img_path, path.join(o16n_path,path.split(fail_img_path)[1]))"
   ]
  },
  {
   "cell_type": "markdown",
   "metadata": {},
   "source": [
    "Check if the image, scoring script and model are in the operationalizaton folder."
   ]
  },
  {
   "cell_type": "code",
   "execution_count": 35,
   "metadata": {},
   "outputs": [
    {
     "name": "stdout",
     "output_type": "stream",
     "text": [
      "fail.0.jpg  imgscore.py  lightgbm_classifier.model\r\n"
     ]
    }
   ],
   "source": [
    "!ls $o16n_path"
   ]
  },
  {
   "cell_type": "markdown",
   "metadata": {},
   "source": [
    "## Upload operationalization files to blob storage"
   ]
  },
  {
   "cell_type": "markdown",
   "metadata": {},
   "source": [
    "Now, you will compress the operationalization folder and upload to blob storage. Locate your storage account name and key as described in the Getting Started document of this tutorial and provide your values in the following cell where indicated."
   ]
  },
  {
   "cell_type": "code",
   "execution_count": 36,
   "metadata": {},
   "outputs": [],
   "source": [
    "ACCOUNT_NAME = 'Your Storage Account Name Here!!'\n",
    "ACCOUNT_KEY = 'Your Storage Account Key Here!!'\n",
    "CONTAINER_NAME = \"deploy\"\n",
    "ZIP_FILE = 'o16n.zip'"
   ]
  },
  {
   "cell_type": "markdown",
   "metadata": {},
   "source": [
    "First, create a container. If the container already exists, the code will return \"False\"."
   ]
  },
  {
   "cell_type": "code",
   "execution_count": 37,
   "metadata": {},
   "outputs": [
    {
     "data": {
      "text/plain": [
       "False"
      ]
     },
     "execution_count": 37,
     "metadata": {},
     "output_type": "execute_result"
    }
   ],
   "source": [
    "block_blob_service = BlockBlobService(account_name=ACCOUNT_NAME, account_key=ACCOUNT_KEY)\n",
    "block_blob_service.create_container(container_name=CONTAINER_NAME, fail_on_exist=False)"
   ]
  },
  {
   "cell_type": "markdown",
   "metadata": {},
   "source": [
    "Check if the container is created."
   ]
  },
  {
   "cell_type": "code",
   "execution_count": 38,
   "metadata": {},
   "outputs": [
    {
     "name": "stdout",
     "output_type": "stream",
     "text": [
      "deploy\n",
      "images\n"
     ]
    }
   ],
   "source": [
    "for container in block_blob_service.list_containers():\n",
    "    print(container.name)"
   ]
  },
  {
   "cell_type": "markdown",
   "metadata": {},
   "source": [
    "Compress the operationalization folder and upload to blob."
   ]
  },
  {
   "cell_type": "code",
   "execution_count": 39,
   "metadata": {},
   "outputs": [
    {
     "data": {
      "text/plain": [
       "<azure.storage.blob.models.ResourceProperties at 0x7f8ed7fa9c88>"
      ]
     },
     "execution_count": 39,
     "metadata": {},
     "output_type": "execute_result"
    }
   ],
   "source": [
    "shutil.make_archive('o16n', 'zip', o16n_path)\n",
    "block_blob_service.create_blob_from_path(container_name=CONTAINER_NAME,blob_name=ZIP_FILE, file_path=ZIP_FILE) "
   ]
  },
  {
   "cell_type": "markdown",
   "metadata": {},
   "source": [
    "Check if the file is uploaded to blob."
   ]
  },
  {
   "cell_type": "code",
   "execution_count": 40,
   "metadata": {},
   "outputs": [
    {
     "name": "stdout",
     "output_type": "stream",
     "text": [
      "o16n.zip\n"
     ]
    }
   ],
   "source": [
    "for blob in block_blob_service.list_blobs(container_name=CONTAINER_NAME):\n",
    "    print(blob.name)"
   ]
  },
  {
   "cell_type": "markdown",
   "metadata": {},
   "source": [
    "Next, go to the 4th notebook to deploy your model."
   ]
  }
 ],
 "metadata": {
  "kernelspec": {
   "display_name": "imgtutvso local",
   "language": "python",
   "name": "imgtutvso_local"
  },
  "language_info": {
   "codemirror_mode": {
    "name": "ipython",
    "version": 3
   },
   "file_extension": ".py",
   "mimetype": "text/x-python",
   "name": "python",
   "nbconvert_exporter": "python",
   "pygments_lexer": "ipython3",
   "version": "3.5.2"
  }
 },
 "nbformat": 4,
 "nbformat_minor": 2
}
